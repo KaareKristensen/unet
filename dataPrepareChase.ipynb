{
 "cells": [
  {
   "cell_type": "code",
   "execution_count": 2,
   "metadata": {},
   "outputs": [],
   "source": [
    "from data import *\n",
    "import os, shutil"
   ]
  },
  {
   "cell_type": "code",
   "execution_count": 5,
   "metadata": {},
   "outputs": [],
   "source": [
    "PATH = \"C:/Users/kaare/src/unet\""
   ]
  },
  {
   "cell_type": "code",
   "execution_count": 6,
   "metadata": {},
   "outputs": [],
   "source": [
    "TRAIN_PATH = PATH + \"/data/CHASEDB1/training\"\n",
    "\n",
    "PROCESSED_TRAIN_PATH = PATH + \"/data/CHASEDB1_preprocessed/train\""
   ]
  },
  {
   "cell_type": "code",
   "execution_count": 9,
   "metadata": {},
   "outputs": [],
   "source": [
    "shutil.rmtree(PATH + \"/data/CHASEDB1_preprocessed\", ignore_errors=True, onerror=None)\n",
    "os.mkdir(PATH + \"/data/CHASEDB1_preprocessed\")\n",
    "os.mkdir(PROCESSED_TRAIN_PATH)\n",
    "os.mkdir(PROCESSED_TRAIN_PATH + \"/images\")\n",
    "os.mkdir(PROCESSED_TRAIN_PATH + \"/labels\")"
   ]
  },
  {
   "cell_type": "code",
   "execution_count": 10,
   "metadata": {},
   "outputs": [],
   "source": [
    "Nimgs = len(os.listdir(TRAIN_PATH + '/images'))\n",
    "channels = 1\n",
    "height = 584\n",
    "width = 565\n",
    "\n",
    "i=1\n",
    "for file in sorted(os.listdir(TRAIN_PATH + \"/images\")):\n",
    "  g_truth = cv2.imread(TRAIN_PATH + \"/images/\" + file)\n",
    "  img = cv2.cvtColor(g_truth, cv2.COLOR_BGR2GRAY)\n",
    "  cv2.imwrite(PROCESSED_TRAIN_PATH + \"/images/\" + str(i) + '.png', img)\n",
    "  i += 1\n",
    "\n",
    "i=1\n",
    "for file in sorted(os.listdir(TRAIN_PATH + \"/labels\")):\n",
    "  g_truth = cv2.imread(TRAIN_PATH + \"/labels/\" + file)\n",
    "  cv2.imwrite(PROCESSED_TRAIN_PATH + \"/labels/\" + str(i) + '.png', g_truth)\n",
    "  i += 1\n"
   ]
  },
  {
   "cell_type": "code",
   "execution_count": 11,
   "metadata": {},
   "outputs": [
    {
     "name": "stdout",
     "output_type": "stream",
     "text": [
      "Scaling is done.\n",
      "Scaling is done.\n"
     ]
    }
   ],
   "source": [
    "scale(PROCESSED_TRAIN_PATH + \"/images\", PROCESSED_TRAIN_PATH + \"/images\", 60)\n",
    "scale(PROCESSED_TRAIN_PATH + \"/labels\", PROCESSED_TRAIN_PATH + \"/labels\", 60)"
   ]
  },
  {
   "cell_type": "code",
   "execution_count": 12,
   "metadata": {},
   "outputs": [
    {
     "name": "stdout",
     "output_type": "stream",
     "text": [
      "Padding is done.\n",
      "Padding is done.\n"
     ]
    }
   ],
   "source": [
    "pad(PROCESSED_TRAIN_PATH + \"/images\", PROCESSED_TRAIN_PATH + \"/images\", False)\n",
    "pad(PROCESSED_TRAIN_PATH + \"/labels\", PROCESSED_TRAIN_PATH + \"/labels\", False)"
   ]
  }
 ],
 "metadata": {
  "interpreter": {
   "hash": "e915bb2a223713ebf3f14e949718dd9417c9b165e04af4e6105fcff65c562f38"
  },
  "kernelspec": {
   "display_name": "Python 3.9.7 64-bit ('ml': conda)",
   "name": "python3"
  },
  "language_info": {
   "codemirror_mode": {
    "name": "ipython",
    "version": 3
   },
   "file_extension": ".py",
   "mimetype": "text/x-python",
   "name": "python",
   "nbconvert_exporter": "python",
   "pygments_lexer": "ipython3",
   "version": "3.9.7"
  }
 },
 "nbformat": 4,
 "nbformat_minor": 2
}
