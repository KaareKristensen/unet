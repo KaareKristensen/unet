{
 "cells": [
  {
   "cell_type": "code",
   "execution_count": 1,
   "metadata": {},
   "outputs": [],
   "source": [
    "from data import *\n",
    "from PIL import Image\n",
    "import os, shutil"
   ]
  },
  {
   "cell_type": "code",
   "execution_count": 2,
   "metadata": {},
   "outputs": [
    {
     "name": "stdout",
     "output_type": "stream",
     "text": [
      "Cropping is done.\n"
     ]
    }
   ],
   "source": [
    "crop(\"data/DRIVE_preprocessed/test/unet_result/original\", \"data/DRIVE_preprocessed/test/unet_result/cropped\")"
   ]
  },
  {
   "cell_type": "code",
   "execution_count": 3,
   "metadata": {},
   "outputs": [],
   "source": [
    "threshold(\"data/DRIVE_preprocessed/test/unet_result/cropped\")"
   ]
  },
  {
   "cell_type": "code",
   "execution_count": 17,
   "metadata": {},
   "outputs": [],
   "source": [
    "PATH = \"C:/Users/Kaare/Documents/Git projects/unet\""
   ]
  },
  {
   "cell_type": "code",
   "execution_count": 18,
   "metadata": {},
   "outputs": [],
   "source": [
    "TRAIN_PATH = PATH + \"/data/DRIVE/training\"\n",
    "\n",
    "TEST_PATH = PATH + \"/data/DRIVE/test\"\n",
    "\n",
    "PROCESSED_TRAIN_PATH = PATH + \"/data/DRIVE_preprocessed/train\"\n",
    "\n",
    "PROCESSED_TEST_PATH = PATH + \"/data/DRIVE_preprocessed/test\""
   ]
  },
  {
   "cell_type": "code",
   "execution_count": 19,
   "metadata": {},
   "outputs": [],
   "source": [
    "shutil.rmtree(PATH + \"/data/DRIVE_preprocessed\", ignore_errors=False, onerror=None)\n",
    "os.mkdir(PATH + \"/data/DRIVE_preprocessed\")\n",
    "os.mkdir(PROCESSED_TRAIN_PATH)\n",
    "os.mkdir(PROCESSED_TEST_PATH)\n",
    "os.mkdir(PROCESSED_TRAIN_PATH + \"/images\")\n",
    "os.mkdir(PROCESSED_TRAIN_PATH + \"/labels\")\n",
    "os.mkdir(PROCESSED_TEST_PATH + \"/images\")"
   ]
  },
  {
   "cell_type": "code",
   "execution_count": 20,
   "metadata": {},
   "outputs": [],
   "source": [
    "Nimgs = len(os.listdir(TRAIN_PATH + '/images'))\n",
    "channels = 1\n",
    "height = 584\n",
    "width = 565\n",
    "\n",
    "i=1\n",
    "for file in sorted(os.listdir(TRAIN_PATH + \"/images\")):\n",
    "  img = cv2.imread(TRAIN_PATH + \"/images/\"+file, 0)\n",
    "  img = np.expand_dims(img, axis=0)\n",
    "  img = np.moveaxis(img,0, -1)\n",
    "  #print(img.shape)\n",
    "  cv2.imwrite(PROCESSED_TRAIN_PATH + \"/images/\" + str(i) + '.png',img)\n",
    "  i += 1\n",
    "\n",
    "\n",
    "i=1\n",
    "for file in sorted(os.listdir(TRAIN_PATH + \"/labels\")):\n",
    "  g_truth = Image.open(TRAIN_PATH + \"/labels/\" + file)\n",
    "  cv2.imwrite(PROCESSED_TRAIN_PATH + \"/labels/\" + str(i) + '.png', np.asarray(g_truth))\n",
    "  i += 1\n"
   ]
  },
  {
   "cell_type": "code",
   "execution_count": 21,
   "metadata": {},
   "outputs": [],
   "source": [
    "Nimgs = len(os.listdir(TEST_PATH + '/images'))\n",
    "channels = 1\n",
    "height = 584\n",
    "width = 565\n",
    "\n",
    "i=1\n",
    "for file in sorted(os.listdir(TEST_PATH + \"/images\")):\n",
    "  img = cv2.imread(TEST_PATH + \"/images/\"+file, 0)\n",
    "  img = np.expand_dims(img, axis=0)\n",
    "  img = np.moveaxis(img,0, -1)\n",
    "  #print(img.shape)\n",
    "  cv2.imwrite(PROCESSED_TEST_PATH + \"/images/\" + str(i) + '.png',img)\n",
    "  i += 1"
   ]
  },
  {
   "cell_type": "code",
   "execution_count": 22,
   "metadata": {},
   "outputs": [
    {
     "name": "stdout",
     "output_type": "stream",
     "text": [
      "Padding is done.\n",
      "Padding is done.\n",
      "Padding is done.\n"
     ]
    }
   ],
   "source": [
    "pad(PROCESSED_TRAIN_PATH + \"/images\", PROCESSED_TRAIN_PATH + \"/images\", False)\n",
    "pad(PROCESSED_TRAIN_PATH + \"/labels\", PROCESSED_TRAIN_PATH + \"/labels\", False)\n",
    "pad(PROCESSED_TEST_PATH + \"/images\", PROCESSED_TEST_PATH + \"/images\", False)"
   ]
  }
 ],
 "metadata": {
  "interpreter": {
   "hash": "e915bb2a223713ebf3f14e949718dd9417c9b165e04af4e6105fcff65c562f38"
  },
  "kernelspec": {
   "display_name": "Python 3.9.7 64-bit ('ml': conda)",
   "name": "python3"
  },
  "language_info": {
   "codemirror_mode": {
    "name": "ipython",
    "version": 3
   },
   "file_extension": ".py",
   "mimetype": "text/x-python",
   "name": "python",
   "nbconvert_exporter": "python",
   "pygments_lexer": "ipython3",
   "version": "3.9.7"
  }
 },
 "nbformat": 4,
 "nbformat_minor": 2
}
